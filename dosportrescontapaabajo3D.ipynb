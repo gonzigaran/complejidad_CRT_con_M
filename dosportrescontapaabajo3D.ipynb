{
 "cells": [
  {
   "cell_type": "markdown",
   "metadata": {},
   "source": [
    "# DosxTres con tapa abajo, en 3D"
   ]
  },
  {
   "cell_type": "code",
   "execution_count": 1,
   "metadata": {},
   "outputs": [],
   "source": [
    "from folpy.utils.parser.parser import Parser\n",
    "from folpy.semantics.classes import Quasivariety\n",
    "from functools import reduce\n",
    "from itertools import islice"
   ]
  },
  {
   "cell_type": "markdown",
   "metadata": {},
   "source": [
    "Importamos el lattice N5 y la cadena de 2 elementos. Luego generamos la cuasivariedad generada por N5 y obtenemos el lattice que vamos a estudiar, en este caso una subálgebra del producto N5*C2."
   ]
  },
  {
   "cell_type": "code",
   "execution_count": 38,
   "metadata": {},
   "outputs": [
    {
     "name": "stdout",
     "output_type": "stream",
     "text": [
      "Cantidad de SRI: 2 (salvo isomorfismos)\n"
     ]
    },
    {
     "data": {
      "text/plain": [
       "<folpy.utils.latdraw.latdraw.LatDraw at 0x7f892892fdf0>"
      ]
     },
     "execution_count": 38,
     "metadata": {},
     "output_type": "execute_result"
    }
   ],
   "source": [
    "N5 = Parser(\"models/N5.model\").parse()\n",
    "C2 = Parser(\"models/2chain.model\").parse()\n",
    "\n",
    "Q = Quasivariety([N5])\n",
    "A_inicial = next((C2*C2*N5).substructures()).continous()[0]\n",
    "\n",
    "print(\"Cantidad de SRI: %s (salvo isomorfismos)\" % len(Q.generate_rsi())) \n",
    "A_inicial.draw()"
   ]
  },
  {
   "cell_type": "markdown",
   "metadata": {},
   "source": [
    "Generamos la descomposición subdirecta del lattice, y nos quedamos con el lattice isomorfo pero que es un producto subdirecto:"
   ]
  },
  {
   "cell_type": "code",
   "execution_count": 13,
   "metadata": {},
   "outputs": [
    {
     "name": "stdout",
     "output_type": "stream",
     "text": [
      "Cantidad de factores: 5\n",
      "Cantidad de elementos del álgebra 0: 2\n",
      "Cantidad de elementos del álgebra 1: 2\n",
      "Cantidad de elementos del álgebra 2: 2\n",
      "Cantidad de elementos del álgebra 3: 5\n",
      "Cantidad de elementos del álgebra 4: 2\n"
     ]
    }
   ],
   "source": [
    "from utils import descomp_subdirecta\n",
    "homeo = descomp_subdirecta(A_inicial, Q)\n",
    "\n",
    "P = homeo.target\n",
    "A = P.restrict(list(homeo.image()))\n",
    "n = len(P.indexes())\n",
    "\n",
    "print(\"Cantidad de factores: %s\" % n)\n",
    "\n",
    "for i in P.indexes():\n",
    "    print(\"Cantidad de elementos del álgebra %s: %s\" % (i,len(P.factors[i])) )"
   ]
  },
  {
   "cell_type": "markdown",
   "metadata": {},
   "source": [
    "A partir de los factores de la descomposición, generamos las congruencias que dan esa descomposición, que van a ser las CMI del reticulado de congruencias de $A$."
   ]
  },
  {
   "cell_type": "code",
   "execution_count": 14,
   "metadata": {},
   "outputs": [
    {
     "name": "stdout",
     "output_type": "stream",
     "text": [
      "delta_0: Congruence([|0, 1, 2, 3, 4, 5, 6, 7, 8, 9|, |10, 11, 12, 13, 14, 15|])\n",
      "delta_1: Congruence([|0, 1, 10, 11|, |2, 3, 4, 5, 6, 7, 8, 9, 12, 13, 14, 15|])\n",
      "delta_2: Congruence([|0, 2, 3, 6, 7, 10, 12, 13|, |1, 4, 5, 8, 9, 11, 14, 15|])\n",
      "delta_3: Congruence([|0, 1|, |2, 3, 4, 5|, |6, 7, 8, 9|, |10, 11|, |12, 13, 14, 15|])\n",
      "delta_4: Congruence([|0, 1, 2, 4, 6, 8, 10, 11, 12, 14|, |3, 5, 7, 9, 13, 15|])\n"
     ]
    }
   ],
   "source": [
    "deltas = {}\n",
    "for i in P.indexes():\n",
    "    deltas[i] = P.projection(i).composition(homeo).kernel()\n",
    "    print(\"delta_%s: %s\" % (i, deltas[i]))"
   ]
  },
  {
   "cell_type": "code",
   "execution_count": 15,
   "metadata": {},
   "outputs": [
    {
     "name": "stdout",
     "output_type": "stream",
     "text": [
      "(0,0): False\n",
      "(0,1): False\n",
      "(0,2): False\n",
      "(0,3): False\n",
      "(0,4): False\n",
      "(1,0): False\n",
      "(1,1): False\n",
      "(1,2): False\n",
      "(1,3): False\n",
      "(1,4): False\n",
      "(2,0): False\n",
      "(2,1): False\n",
      "(2,2): False\n",
      "(2,3): False\n",
      "(2,4): False\n",
      "(3,0): True\n",
      "(3,1): True\n",
      "(3,2): False\n",
      "(3,3): False\n",
      "(3,4): False\n",
      "(4,0): False\n",
      "(4,1): False\n",
      "(4,2): False\n",
      "(4,3): False\n",
      "(4,4): False\n"
     ]
    }
   ],
   "source": [
    "for i in P.indexes():\n",
    "    for j in P.indexes():\n",
    "        print(\"(%s,%s): %s\" % (i, j, deltas[i]<deltas[j]))"
   ]
  },
  {
   "cell_type": "markdown",
   "metadata": {},
   "source": [
    "Cuando analizamos la congruencia, vemos que las CMI de $A$ están ordenadas de la siguiente manera:\n",
    "\n",
    "```\n",
    "d0    d1\n",
    "  \\  /\n",
    "   d3     d2    d4\n",
    "```\n",
    "\n",
    "Sabemos que las congruencias que tomemos para el sistema van a ser generadas por intersecciones de CMIs, por lo tanto, viendo las congruencias como conjuntos de índices que se corresponden con las CMIs, estos conjuntos son crecientes. Además queremos que la unión de nuestros conjuntos de índice cubra todos los índices, por lo tanto va a haber al menos un $F_i$ que tenga a los indices $0, 1 $ y $3$; otro $F_i$ que tenga a $2$ y otro $F_i$ que tenga a $4$.\n",
    "\n",
    "Por lo tanto comenzamos tomando nuestro conjunto de congruencias $\\{\\delta_1, \\delta_2\\, \\delta_3\\}$; es decir, los conjuntos de indices $F_1 = \\{0,1,3\\}$; $F_2 = \\{2\\}$ y $F_3 = \\{4\\}$."
   ]
  },
  {
   "cell_type": "code",
   "execution_count": 16,
   "metadata": {},
   "outputs": [],
   "source": [
    "Fs = {}\n",
    "Fs[1] = {0, 1, 3}\n",
    "Fs[2] = {2}\n",
    "Fs[3] = {4}"
   ]
  },
  {
   "cell_type": "markdown",
   "metadata": {},
   "source": [
    "Vamos a definir algunos operadores a partir de $A$ y $P := \\prod A_i$.\n",
    "\n",
    " - $A' := \\{ \\bar{s} \\in P : \\ \\bar{s}|_{F_i} \\in A|_{F_i} \\ \\forall i \\in I \\}$\n",
    " - $\\bar{A_{ij}} := \\{ \\bar{a} \\in P : \\ a_{ij} \\in A_{ij} \\}$\n",
    "\n",
    "Cómo estamos en una variedad con M, se puede ver que:\n",
    "\n",
    " - $A = \\bigcap_{i,j\\in H} \\bar{A_{ij}}$, donde $H := \\{ ij : ij \\in I^2 \\}$\n",
    " - $A' = \\bigcap_{i,j\\in H'} \\bar{A_{ij}}$, donde $H' := \\{ ij \\in I^2 : \\exist k \\in I $ tal que $ ij \\in F_k \\}$ \n",
    "\n",
    "Es claro que $H' \\subseteq H$, y por lo tanto $A \\subseteq A'$. Si se cumple la igualdad ($A = A'$), tenemos que todo sistema tiene solución, sino existe alguno sin solución. \n"
   ]
  },
  {
   "cell_type": "code",
   "execution_count": 18,
   "metadata": {},
   "outputs": [],
   "source": [
    "from utils import dos_proyeccion_extendida\n",
    "\n",
    "H = [(i,j) for i in range(n) for j in range(n) if i < j]\n",
    "\n",
    "A_barra = P.universe\n",
    "for (i, j) in H:\n",
    "    A_barra = [x for x in A_barra if x in dos_proyeccion_extendida(homeo, i, j)]\n",
    "\n",
    "assert(sorted(A_barra) == sorted(A.universe))"
   ]
  },
  {
   "cell_type": "code",
   "execution_count": 19,
   "metadata": {},
   "outputs": [
    {
     "data": {
      "text/plain": [
       "{(0, 0, 0, 0, 1), (0, 0, 1, 0, 1), (1, 0, 0, 3, 1), (1, 0, 1, 3, 1)}"
      ]
     },
     "execution_count": 19,
     "metadata": {},
     "output_type": "execute_result"
    }
   ],
   "source": [
    "H_prima = [(i,j) for (i,j) in H if any(i in Fs[k] and j in Fs[k] for k in Fs.keys())]\n",
    "\n",
    "A_barra_prima = P.universe\n",
    "for (i, j) in H_prima:\n",
    "    A_barra_prima = [x for x in A_barra_prima if x in dos_proyeccion_extendida(homeo, i, j)]\n",
    "\n",
    "set(A_barra_prima).difference(set(A_barra))"
   ]
  },
  {
   "cell_type": "markdown",
   "metadata": {},
   "source": [
    "$A'$ tiene 4 elementos más que $A$, por lo que van a existir 4 sistemas que no tengan solución para $\\{\\delta_1, \\delta_2, \\delta_3\\}$.\n"
   ]
  },
  {
   "cell_type": "markdown",
   "metadata": {},
   "source": [
    "### Caso 1\n",
    "\n",
    " - $F_1 := \\{ 0, 1, 3 \\}$\n",
    " - $F_2 := \\{ 2, 4 \\}$"
   ]
  },
  {
   "cell_type": "code",
   "execution_count": 26,
   "metadata": {},
   "outputs": [
    {
     "data": {
      "text/plain": [
       "{(0, 0, 0, 0, 1), (0, 0, 1, 0, 1), (1, 0, 0, 3, 1), (1, 0, 1, 3, 1)}"
      ]
     },
     "execution_count": 26,
     "metadata": {},
     "output_type": "execute_result"
    }
   ],
   "source": [
    "Fs = {}\n",
    "Fs[1] = {0, 1, 3}\n",
    "Fs[2] = {2, 4}\n",
    "tita = reduce(lambda x, y: x & y, [deltas[i] for i in Fs[1]])\n",
    "gama = reduce(lambda x, y: x & y, [deltas[i] for i in Fs[2]])\n",
    "\n",
    "H_prima = [(i,j) for (i,j) in H if any(i in Fs[k] and j in Fs[k] for k in Fs.keys())]\n",
    "\n",
    "A_barra_prima = P.universe\n",
    "for (i, j) in H_prima:\n",
    "    A_barra_prima = [x for x in A_barra_prima if x in dos_proyeccion_extendida(homeo, i, j)]\n",
    "\n",
    "set(A_barra_prima).difference(set(A_barra))"
   ]
  },
  {
   "cell_type": "markdown",
   "metadata": {},
   "source": [
    "Siguen estando los mismos elementos."
   ]
  },
  {
   "cell_type": "code",
   "execution_count": 27,
   "metadata": {},
   "outputs": [
    {
     "data": {
      "text/plain": [
       "(Congruence([|0, 1|, |2, 3, 4, 5|, |6, 7, 8, 9|, |10, 11|, |12, 13, 14, 15|]),\n",
       " Congruence([|0, 2, 6, 10, 12|, |3, 7, 13|, |1, 4, 8, 11, 14|, |5, 9, 15|]))"
      ]
     },
     "execution_count": 27,
     "metadata": {},
     "output_type": "execute_result"
    }
   ],
   "source": [
    "tita, gama"
   ]
  },
  {
   "cell_type": "code",
   "execution_count": 28,
   "metadata": {},
   "outputs": [
    {
     "data": {
      "text/plain": [
       "<folpy.utils.latdraw.latdraw.LatDraw at 0x7f8907246800>"
      ]
     },
     "execution_count": 28,
     "metadata": {},
     "output_type": "execute_result"
    }
   ],
   "source": [
    "from folpy.semantics.lattices import LatticeQuotient\n",
    "\n",
    "LatticeQuotient(A_inicial, gama).draw()\n",
    "LatticeQuotient(A_inicial, tita).draw()"
   ]
  },
  {
   "cell_type": "markdown",
   "metadata": {},
   "source": [
    "### Caso 2\n",
    "\n",
    " - $F_1 := \\{ 0, 1, 2, 3 \\}$\n",
    " - $F_2 := \\{ 4 \\}$"
   ]
  },
  {
   "cell_type": "code",
   "execution_count": 30,
   "metadata": {},
   "outputs": [
    {
     "data": {
      "text/plain": [
       "{(0, 0, 0, 0, 1), (0, 0, 1, 0, 1), (1, 0, 0, 3, 1), (1, 0, 1, 3, 1)}"
      ]
     },
     "execution_count": 30,
     "metadata": {},
     "output_type": "execute_result"
    }
   ],
   "source": [
    "Fs = {}\n",
    "Fs[1] = {0, 1, 2, 3}\n",
    "Fs[2] = {4}\n",
    "tita = reduce(lambda x, y: x & y, [deltas[i] for i in Fs[1]])\n",
    "gama = reduce(lambda x, y: x & y, [deltas[i] for i in Fs[2]])\n",
    "\n",
    "H_prima = [(i,j) for (i,j) in H if any(i in Fs[k] and j in Fs[k] for k in Fs.keys())]\n",
    "\n",
    "A_barra_prima = P.universe\n",
    "for (i, j) in H_prima:\n",
    "    A_barra_prima = [x for x in A_barra_prima if x in dos_proyeccion_extendida(homeo, i, j)]\n",
    "\n",
    "set(A_barra_prima).difference(set(A_barra))"
   ]
  },
  {
   "cell_type": "code",
   "execution_count": 31,
   "metadata": {},
   "outputs": [
    {
     "data": {
      "text/plain": [
       "(Congruence([|0|, |1|, |2, 3|, |4, 5|, |6, 7|, |8, 9|, |10|, |11|, |12, 13|, |14, 15|]),\n",
       " Congruence([|0, 1, 2, 4, 6, 8, 10, 11, 12, 14|, |3, 5, 7, 9, 13, 15|]))"
      ]
     },
     "execution_count": 31,
     "metadata": {},
     "output_type": "execute_result"
    }
   ],
   "source": [
    "tita, gama"
   ]
  },
  {
   "cell_type": "code",
   "execution_count": 32,
   "metadata": {},
   "outputs": [
    {
     "data": {
      "text/plain": [
       "<folpy.utils.latdraw.latdraw.LatDraw at 0x7f890721dea0>"
      ]
     },
     "execution_count": 32,
     "metadata": {},
     "output_type": "execute_result"
    }
   ],
   "source": [
    "from folpy.semantics.lattices import LatticeQuotient\n",
    "\n",
    "LatticeQuotient(A_inicial, gama).draw()\n",
    "LatticeQuotient(A_inicial, tita).draw()"
   ]
  },
  {
   "cell_type": "markdown",
   "metadata": {},
   "source": [
    "### Caso 3\n",
    "\n",
    " - $F_1 := \\{ 0, 1, 3 \\}$\n",
    " - $F_2 := \\{ 0, 2 \\}$\n",
    " - $F_2 := \\{ 4 \\}$"
   ]
  },
  {
   "cell_type": "code",
   "execution_count": 42,
   "metadata": {},
   "outputs": [
    {
     "data": {
      "text/plain": [
       "{(0, 0, 0, 0, 1), (0, 0, 1, 0, 1), (1, 0, 0, 3, 1), (1, 0, 1, 3, 1)}"
      ]
     },
     "execution_count": 42,
     "metadata": {},
     "output_type": "execute_result"
    }
   ],
   "source": [
    "Fs = {}\n",
    "Fs[1] = {0, 1, 3}\n",
    "Fs[2] = {0, 2}\n",
    "Fs[3] = {4}\n",
    "tita = reduce(lambda x, y: x & y, [deltas[i] for i in Fs[1]])\n",
    "gama = reduce(lambda x, y: x & y, [deltas[i] for i in Fs[2]])\n",
    "landa = reduce(lambda x, y: x & y, [deltas[i] for i in Fs[3]])\n",
    "\n",
    "H_prima = [(i,j) for (i,j) in H if any(i in Fs[k] and j in Fs[k] for k in Fs.keys())]\n",
    "\n",
    "A_barra_prima = P.universe\n",
    "for (i, j) in H_prima:\n",
    "    A_barra_prima = [x for x in A_barra_prima if x in dos_proyeccion_extendida(homeo, i, j)]\n",
    "\n",
    "set(A_barra_prima).difference(set(A_barra))"
   ]
  },
  {
   "cell_type": "code",
   "execution_count": 43,
   "metadata": {},
   "outputs": [
    {
     "data": {
      "text/plain": [
       "(Congruence([|0, 1|, |2, 3, 4, 5|, |6, 7, 8, 9|, |10, 11|, |12, 13, 14, 15|]),\n",
       " Congruence([|0, 2, 3, 6, 7|, |1, 4, 5, 8, 9|, |10, 12, 13|, |11, 14, 15|]),\n",
       " Congruence([|0, 1, 2, 4, 6, 8, 10, 11, 12, 14|, |3, 5, 7, 9, 13, 15|]))"
      ]
     },
     "execution_count": 43,
     "metadata": {},
     "output_type": "execute_result"
    }
   ],
   "source": [
    "tita, gama, landa"
   ]
  },
  {
   "cell_type": "code",
   "execution_count": 44,
   "metadata": {},
   "outputs": [
    {
     "data": {
      "text/plain": [
       "<folpy.utils.latdraw.latdraw.LatDraw at 0x7f8907039ff0>"
      ]
     },
     "execution_count": 44,
     "metadata": {},
     "output_type": "execute_result"
    }
   ],
   "source": [
    "from folpy.semantics.lattices import LatticeQuotient\n",
    "\n",
    "LatticeQuotient(A_inicial, gama).draw()\n",
    "LatticeQuotient(A_inicial, tita).draw()\n",
    "LatticeQuotient(A_inicial, landa).draw()"
   ]
  },
  {
   "cell_type": "markdown",
   "metadata": {},
   "source": [
    "### Caso 4\n",
    "\n",
    " - $F_1 := \\{ 0, 1, 3 \\}$\n",
    " - $F_2 := \\{ 1, 2 \\}$\n",
    " - $F_2 := \\{ 4 \\}$"
   ]
  },
  {
   "cell_type": "code",
   "execution_count": 45,
   "metadata": {},
   "outputs": [
    {
     "data": {
      "text/plain": [
       "{(0, 0, 0, 0, 1), (0, 0, 1, 0, 1), (1, 0, 0, 3, 1), (1, 0, 1, 3, 1)}"
      ]
     },
     "execution_count": 45,
     "metadata": {},
     "output_type": "execute_result"
    }
   ],
   "source": [
    "Fs = {}\n",
    "Fs[1] = {0, 1, 3}\n",
    "Fs[2] = {1, 2}\n",
    "Fs[3] = {4}\n",
    "tita = reduce(lambda x, y: x & y, [deltas[i] for i in Fs[1]])\n",
    "gama = reduce(lambda x, y: x & y, [deltas[i] for i in Fs[2]])\n",
    "landa = reduce(lambda x, y: x & y, [deltas[i] for i in Fs[3]])\n",
    "\n",
    "H_prima = [(i,j) for (i,j) in H if any(i in Fs[k] and j in Fs[k] for k in Fs.keys())]\n",
    "\n",
    "A_barra_prima = P.universe\n",
    "for (i, j) in H_prima:\n",
    "    A_barra_prima = [x for x in A_barra_prima if x in dos_proyeccion_extendida(homeo, i, j)]\n",
    "\n",
    "set(A_barra_prima).difference(set(A_barra))"
   ]
  },
  {
   "cell_type": "code",
   "execution_count": 46,
   "metadata": {},
   "outputs": [
    {
     "data": {
      "text/plain": [
       "(Congruence([|0, 1|, |2, 3, 4, 5|, |6, 7, 8, 9|, |10, 11|, |12, 13, 14, 15|]),\n",
       " Congruence([|0, 10|, |1, 11|, |2, 3, 6, 7, 12, 13|, |4, 5, 8, 9, 14, 15|]),\n",
       " Congruence([|0, 1, 2, 4, 6, 8, 10, 11, 12, 14|, |3, 5, 7, 9, 13, 15|]))"
      ]
     },
     "execution_count": 46,
     "metadata": {},
     "output_type": "execute_result"
    }
   ],
   "source": [
    "tita, gama, landa"
   ]
  },
  {
   "cell_type": "code",
   "execution_count": 47,
   "metadata": {},
   "outputs": [
    {
     "data": {
      "text/plain": [
       "<folpy.utils.latdraw.latdraw.LatDraw at 0x7f890724cd60>"
      ]
     },
     "execution_count": 47,
     "metadata": {},
     "output_type": "execute_result"
    }
   ],
   "source": [
    "from folpy.semantics.lattices import LatticeQuotient\n",
    "\n",
    "LatticeQuotient(A_inicial, gama).draw()\n",
    "LatticeQuotient(A_inicial, tita).draw()\n",
    "LatticeQuotient(A_inicial, landa).draw()"
   ]
  },
  {
   "cell_type": "markdown",
   "metadata": {},
   "source": [
    "### Caso 5\n",
    "\n",
    " - $F_1 := \\{ 0, 1, 3 \\}$\n",
    " - $F_2 := \\{ 2 \\}$\n",
    " - $F_2 := \\{ 0, 4 \\}$"
   ]
  },
  {
   "cell_type": "code",
   "execution_count": 48,
   "metadata": {},
   "outputs": [
    {
     "data": {
      "text/plain": [
       "{(0, 0, 0, 0, 1), (0, 0, 1, 0, 1), (1, 0, 0, 3, 1), (1, 0, 1, 3, 1)}"
      ]
     },
     "execution_count": 48,
     "metadata": {},
     "output_type": "execute_result"
    }
   ],
   "source": [
    "Fs = {}\n",
    "Fs[1] = {0, 1, 3}\n",
    "Fs[2] = {2}\n",
    "Fs[3] = {0, 4}\n",
    "tita = reduce(lambda x, y: x & y, [deltas[i] for i in Fs[1]])\n",
    "gama = reduce(lambda x, y: x & y, [deltas[i] for i in Fs[2]])\n",
    "landa = reduce(lambda x, y: x & y, [deltas[i] for i in Fs[3]])\n",
    "\n",
    "H_prima = [(i,j) for (i,j) in H if any(i in Fs[k] and j in Fs[k] for k in Fs.keys())]\n",
    "\n",
    "A_barra_prima = P.universe\n",
    "for (i, j) in H_prima:\n",
    "    A_barra_prima = [x for x in A_barra_prima if x in dos_proyeccion_extendida(homeo, i, j)]\n",
    "\n",
    "set(A_barra_prima).difference(set(A_barra))"
   ]
  },
  {
   "cell_type": "code",
   "execution_count": 49,
   "metadata": {},
   "outputs": [
    {
     "data": {
      "text/plain": [
       "(Congruence([|0, 1|, |2, 3, 4, 5|, |6, 7, 8, 9|, |10, 11|, |12, 13, 14, 15|]),\n",
       " Congruence([|0, 2, 3, 6, 7, 10, 12, 13|, |1, 4, 5, 8, 9, 11, 14, 15|]),\n",
       " Congruence([|0, 1, 2, 4, 6, 8|, |3, 5, 7, 9|, |10, 11, 12, 14|, |13, 15|]))"
      ]
     },
     "execution_count": 49,
     "metadata": {},
     "output_type": "execute_result"
    }
   ],
   "source": [
    "tita, gama, landa"
   ]
  },
  {
   "cell_type": "code",
   "execution_count": 50,
   "metadata": {},
   "outputs": [
    {
     "data": {
      "text/plain": [
       "<folpy.utils.latdraw.latdraw.LatDraw at 0x7f89071d3ee0>"
      ]
     },
     "execution_count": 50,
     "metadata": {},
     "output_type": "execute_result"
    }
   ],
   "source": [
    "from folpy.semantics.lattices import LatticeQuotient\n",
    "\n",
    "LatticeQuotient(A_inicial, gama).draw()\n",
    "LatticeQuotient(A_inicial, tita).draw()\n",
    "LatticeQuotient(A_inicial, landa).draw()"
   ]
  },
  {
   "cell_type": "markdown",
   "metadata": {},
   "source": [
    "### Caso 6\n",
    "\n",
    " - $F_1 := \\{ 0, 1, 3 \\}$\n",
    " - $F_2 := \\{ 2 \\}$\n",
    " - $F_2 := \\{ 1, 4 \\}$"
   ]
  },
  {
   "cell_type": "code",
   "execution_count": 51,
   "metadata": {},
   "outputs": [
    {
     "data": {
      "text/plain": [
       "set()"
      ]
     },
     "execution_count": 51,
     "metadata": {},
     "output_type": "execute_result"
    }
   ],
   "source": [
    "Fs = {}\n",
    "Fs[1] = {0, 1, 3}\n",
    "Fs[2] = {2}\n",
    "Fs[3] = {1, 4}\n",
    "tita = reduce(lambda x, y: x & y, [deltas[i] for i in Fs[1]])\n",
    "gama = reduce(lambda x, y: x & y, [deltas[i] for i in Fs[2]])\n",
    "landa = reduce(lambda x, y: x & y, [deltas[i] for i in Fs[3]])\n",
    "\n",
    "H_prima = [(i,j) for (i,j) in H if any(i in Fs[k] and j in Fs[k] for k in Fs.keys())]\n",
    "\n",
    "A_barra_prima = P.universe\n",
    "for (i, j) in H_prima:\n",
    "    A_barra_prima = [x for x in A_barra_prima if x in dos_proyeccion_extendida(homeo, i, j)]\n",
    "\n",
    "set(A_barra_prima).difference(set(A_barra))"
   ]
  },
  {
   "cell_type": "code",
   "execution_count": 52,
   "metadata": {},
   "outputs": [
    {
     "data": {
      "text/plain": [
       "(Congruence([|0, 1|, |2, 3, 4, 5|, |6, 7, 8, 9|, |10, 11|, |12, 13, 14, 15|]),\n",
       " Congruence([|0, 2, 3, 6, 7, 10, 12, 13|, |1, 4, 5, 8, 9, 11, 14, 15|]),\n",
       " Congruence([|0, 1, 10, 11|, |2, 4, 6, 8, 12, 14|, |3, 5, 7, 9, 13, 15|]))"
      ]
     },
     "execution_count": 52,
     "metadata": {},
     "output_type": "execute_result"
    }
   ],
   "source": [
    "tita, gama, landa"
   ]
  },
  {
   "cell_type": "code",
   "execution_count": 53,
   "metadata": {},
   "outputs": [
    {
     "data": {
      "text/plain": [
       "<folpy.utils.latdraw.latdraw.LatDraw at 0x7f8906e1bcd0>"
      ]
     },
     "execution_count": 53,
     "metadata": {},
     "output_type": "execute_result"
    }
   ],
   "source": [
    "from folpy.semantics.lattices import LatticeQuotient\n",
    "\n",
    "LatticeQuotient(A_inicial, gama).draw()\n",
    "LatticeQuotient(A_inicial, tita).draw()\n",
    "LatticeQuotient(A_inicial, landa).draw()"
   ]
  },
  {
   "cell_type": "code",
   "execution_count": null,
   "metadata": {},
   "outputs": [],
   "source": []
  },
  {
   "cell_type": "markdown",
   "metadata": {},
   "source": [
    "### Caso 7\n",
    "\n",
    " - $F_1 := \\{ 0, 1, 3 \\}$\n",
    " - $F_2 := \\{ 1, 2, 4\\}$"
   ]
  },
  {
   "cell_type": "code",
   "execution_count": 54,
   "metadata": {},
   "outputs": [
    {
     "data": {
      "text/plain": [
       "set()"
      ]
     },
     "execution_count": 54,
     "metadata": {},
     "output_type": "execute_result"
    }
   ],
   "source": [
    "Fs = {}\n",
    "Fs[1] = {0, 1, 3}\n",
    "Fs[2] = {1, 2, 4}\n",
    "tita = reduce(lambda x, y: x & y, [deltas[i] for i in Fs[1]])\n",
    "gama = reduce(lambda x, y: x & y, [deltas[i] for i in Fs[2]])\n",
    "\n",
    "H_prima = [(i,j) for (i,j) in H if any(i in Fs[k] and j in Fs[k] for k in Fs.keys())]\n",
    "\n",
    "A_barra_prima = P.universe\n",
    "for (i, j) in H_prima:\n",
    "    A_barra_prima = [x for x in A_barra_prima if x in dos_proyeccion_extendida(homeo, i, j)]\n",
    "\n",
    "set(A_barra_prima).difference(set(A_barra))"
   ]
  },
  {
   "cell_type": "code",
   "execution_count": 55,
   "metadata": {},
   "outputs": [
    {
     "data": {
      "text/plain": [
       "(Congruence([|0, 1|, |2, 3, 4, 5|, |6, 7, 8, 9|, |10, 11|, |12, 13, 14, 15|]),\n",
       " Congruence([|0, 10|, |1, 11|, |2, 6, 12|, |3, 7, 13|, |4, 8, 14|, |5, 9, 15|]))"
      ]
     },
     "execution_count": 55,
     "metadata": {},
     "output_type": "execute_result"
    }
   ],
   "source": [
    "tita, gama"
   ]
  },
  {
   "cell_type": "code",
   "execution_count": 57,
   "metadata": {},
   "outputs": [
    {
     "data": {
      "text/plain": [
       "<folpy.utils.latdraw.latdraw.LatDraw at 0x7f8906e1a5f0>"
      ]
     },
     "execution_count": 57,
     "metadata": {},
     "output_type": "execute_result"
    }
   ],
   "source": [
    "from folpy.semantics.lattices import LatticeQuotient\n",
    "\n",
    "LatticeQuotient(A_inicial, gama).draw()\n",
    "LatticeQuotient(A_inicial, tita).draw()"
   ]
  },
  {
   "cell_type": "code",
   "execution_count": null,
   "metadata": {},
   "outputs": [],
   "source": []
  }
 ],
 "metadata": {
  "kernelspec": {
   "display_name": "Python 3.9.9 ('env': venv)",
   "language": "python",
   "name": "python3"
  },
  "language_info": {
   "codemirror_mode": {
    "name": "ipython",
    "version": 3
   },
   "file_extension": ".py",
   "mimetype": "text/x-python",
   "name": "python",
   "nbconvert_exporter": "python",
   "pygments_lexer": "ipython3",
   "version": "3.10.4"
  },
  "orig_nbformat": 4,
  "vscode": {
   "interpreter": {
    "hash": "e0fa8040b9d9508a7d131a2e58436b55f102753c97353d50224337d521b61c41"
   }
  }
 },
 "nbformat": 4,
 "nbformat_minor": 2
}
