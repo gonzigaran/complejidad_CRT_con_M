{
 "cells": [
  {
   "cell_type": "markdown",
   "metadata": {},
   "source": []
  },
  {
   "cell_type": "code",
   "execution_count": 83,
   "metadata": {},
   "outputs": [],
   "source": [
    "from folpy.utils.parser.parser import Parser\n",
    "from folpy.semantics.classes import Quasivariety\n",
    "from functools import reduce"
   ]
  },
  {
   "cell_type": "markdown",
   "metadata": {},
   "source": [
    "Importamos el lattice N5 y la cadena de 2 elementos. Luego generamos la cuasivariedad generada por N5 y obtenemos el lattice que vamos a estudiar, en este caso una subálgebra del producto N5*C2."
   ]
  },
  {
   "cell_type": "code",
   "execution_count": 2,
   "metadata": {},
   "outputs": [
    {
     "name": "stdout",
     "output_type": "stream",
     "text": [
      "Cantidad de SRI: 2 (salvo isomorfismos)\n"
     ]
    }
   ],
   "source": [
    "N5 = Parser(\"models/N5.model\").parse()\n",
    "C2 = Parser(\"models/2chain.model\").parse()\n",
    "\n",
    "Q = Quasivariety([N5])\n",
    "A_inicial = list((C2*N5).substructures())[2].continous()[0]\n",
    "\n",
    "print(\"Cantidad de SRI: %s (salvo isomorfismos)\" % len(Q.generate_rsi())) "
   ]
  },
  {
   "cell_type": "markdown",
   "metadata": {},
   "source": [
    "Generamos la descomposición subdirecta del lattice, y nos quedamos con el lattice isomorfo pero que es un producto subdirecto:"
   ]
  },
  {
   "cell_type": "code",
   "execution_count": 10,
   "metadata": {},
   "outputs": [
    {
     "name": "stdout",
     "output_type": "stream",
     "text": [
      "Cantidad de factores: 4\n",
      "Cantidad de elementos del álgebra 0: 2\n",
      "Cantidad de elementos del álgebra 1: 5\n",
      "Cantidad de elementos del álgebra 2: 2\n",
      "Cantidad de elementos del álgebra 3: 2\n"
     ]
    }
   ],
   "source": [
    "from utils import descomp_subdirecta\n",
    "homeo = descomp_subdirecta(A_inicial, Q)\n",
    "\n",
    "P = homeo.target\n",
    "A = P.restrict(list(homeo.image()))\n",
    "\n",
    "print(\"Cantidad de factores: %s\" % len(P.indexes()))\n",
    "\n",
    "for i in P.indexes():\n",
    "    print(\"Cantidad de elementos del álgebra %s: %s\" % (i,len(P.factors[i])) )"
   ]
  },
  {
   "cell_type": "markdown",
   "metadata": {},
   "source": [
    "A partir de los factores de la descomposición, generamos las congruencias que dan esa descomposición, que van a ser las CMI del reticulado de congruencias de $A$."
   ]
  },
  {
   "cell_type": "code",
   "execution_count": 12,
   "metadata": {},
   "outputs": [
    {
     "name": "stdout",
     "output_type": "stream",
     "text": [
      "delta_0: Congruence([|0, 1, 2, 3, 4, 5|, |6, 7|])\n",
      "delta_1: Congruence([|0, 3|, |1, 4|, |2, 5|, |6|, |7|])\n",
      "delta_2: Congruence([|0, 1, 2|, |3, 4, 5, 6, 7|])\n",
      "delta_3: Congruence([|0, 3, 6|, |1, 2, 4, 5, 7|])\n"
     ]
    }
   ],
   "source": [
    "deltas = {}\n",
    "for i in P.indexes():\n",
    "    deltas[i] = P.projection(i).composition(homeo).kernel()\n",
    "    print(\"delta_%s: %s\" % (i, deltas[i]))"
   ]
  },
  {
   "cell_type": "markdown",
   "metadata": {},
   "source": [
    "Cuando analizamos la congruencia, vemos que las CMI de $A$ están ordenadas de la siguiente manera:\n",
    "\n",
    "```\n",
    "d0    d3\n",
    "  \\  /\n",
    "   d1     d2\n",
    "```\n",
    "\n",
    "Sabemos que las congruencias que tomemos para el sistema van a ser generadas por intersecciones de CMIs, por lo tanto, viendo las congruencias como conjuntos de índices que se corresponden con las CMIs, estos conjuntos son crecientes. Además queremos que la unión de nuestros conjuntos de índice cubra todos los índices, por lo tanto va a haber al menos un $F_i$ que tenga a los indices $0, 1 $ y $3$; y otro $F_j$ que tenga a $2$.\n",
    "\n",
    "Por lo tanto comenzamos tomando nuestro conjunto de congruencias $\\{\\delta_1, \\delta_2\\}$; es decir, los conjuntos de indices $F_1 = \\{0,1,3\\}$ y $F_2 = \\{2\\}$."
   ]
  },
  {
   "cell_type": "code",
   "execution_count": 71,
   "metadata": {},
   "outputs": [],
   "source": [
    "Fs = {}\n",
    "Fs[1] = {0, 1, 3}\n",
    "Fs[2] = {2}"
   ]
  },
  {
   "cell_type": "markdown",
   "metadata": {},
   "source": [
    "Vamos a definir algunos operadores a partir de $A$ y $P := \\prod A_i$.\n",
    "\n",
    " - $A' := \\{ \\bar{s} \\in P : \\ \\bar{s}|_{F_i} \\in A|_{F_i} \\ \\forall i \\in I \\}$\n",
    " - $\\bar{A_{ij}} := \\{ \\bar{a} \\in P : \\ a_{ij} \\in A_{ij} \\}$\n",
    "\n",
    "Cómo estamos en una variedad con M, se puede ver que:\n",
    "\n",
    " - $A = \\bigcap_{i,j\\in H} \\bar{A_{ij}}$, donde $H := \\{ ij : ij \\in I^2 \\}$\n",
    " - $A' = \\bigcap_{i,j\\in H'} \\bar{A_{ij}}$, donde $H' := \\{ ij \\in I^2 : \\exist k \\in I $ tal que $ ij \\in F_k \\}$ \n",
    "\n",
    "Es claro que $H' \\subseteq H$, y por lo tanto $A \\subseteq A'$. Si se cumple la igualdad ($A = A'$), tenemos que todo sistema tiene solución, sino existe alguno sin solución. \n"
   ]
  },
  {
   "cell_type": "code",
   "execution_count": 20,
   "metadata": {},
   "outputs": [],
   "source": [
    "from utils import dos_proyeccion_extendida\n",
    "\n",
    "H = [(i,j) for i in range(4) for j in range(4) if i < j]\n",
    "\n",
    "A_barra = P.universe\n",
    "for (i, j) in H:\n",
    "    A_barra = [x for x in A_barra if x in dos_proyeccion_extendida(homeo, i, j)]\n",
    "\n",
    "assert(sorted(A_barra) == sorted(A.universe))"
   ]
  },
  {
   "cell_type": "code",
   "execution_count": 22,
   "metadata": {},
   "outputs": [
    {
     "data": {
      "text/plain": [
       "{(1, 3, 0, 0), (1, 4, 0, 1)}"
      ]
     },
     "execution_count": 22,
     "metadata": {},
     "output_type": "execute_result"
    }
   ],
   "source": [
    "H_prima = [(i,j) for (i,j) in H if any(i in Fs[k] and j in Fs[k] for k in Fs.keys())]\n",
    "\n",
    "A_barra_prima = P.universe\n",
    "for (i, j) in H_prima:\n",
    "    A_barra_prima = [x for x in A_barra_prima if x in dos_proyeccion_extendida(homeo, i, j)]\n",
    "\n",
    "set(A_barra_prima).difference(set(A_barra))"
   ]
  },
  {
   "cell_type": "markdown",
   "metadata": {},
   "source": [
    "$A'$ tiene 2 elementos más que $A$, por lo que van a existir 2 sistemas que no tengan solución para $\\{\\delta_1, \\delta_2\\}$.\n"
   ]
  },
  {
   "cell_type": "markdown",
   "metadata": {},
   "source": [
    "La primera observación es que si los índices $1$ y $2$ están en el mísmo $F_i$ estamos consideranco el caso en donde una congruencia es $\\Delta$, por lo cual no tiene mucho sentido este caso. Vamos a probar los siguientes 2 casos:\n",
    "\n",
    "### Caso 1\n",
    "\n",
    " - $F_1 := \\{ 0, 1, 3 \\}$\n",
    " - $F_2 := \\{ 0, 2 \\}$"
   ]
  },
  {
   "cell_type": "code",
   "execution_count": 84,
   "metadata": {},
   "outputs": [
    {
     "data": {
      "text/plain": [
       "set()"
      ]
     },
     "execution_count": 84,
     "metadata": {},
     "output_type": "execute_result"
    }
   ],
   "source": [
    "Fs = {}\n",
    "Fs[1] = {0, 1, 3}\n",
    "Fs[2] = {0, 2}\n",
    "tita = reduce(lambda x, y: x & y, [deltas[i] for i in Fs[1]])\n",
    "gama = reduce(lambda x, y: x & y, [deltas[i] for i in Fs[2]])\n",
    "\n",
    "H_prima = [(i,j) for (i,j) in H if any(i in Fs[k] and j in Fs[k] for k in Fs.keys())]\n",
    "\n",
    "A_barra_prima = P.universe\n",
    "for (i, j) in H_prima:\n",
    "    A_barra_prima = [x for x in A_barra_prima if x in dos_proyeccion_extendida(homeo, i, j)]\n",
    "\n",
    "set(A_barra_prima).difference(set(A_barra))"
   ]
  },
  {
   "cell_type": "markdown",
   "metadata": {},
   "source": [
    "Aqui podemos ver que $A' = A$, por lo que todo sistema tiene solución, veamos quienes son las congruencias de este sistema."
   ]
  },
  {
   "cell_type": "code",
   "execution_count": 85,
   "metadata": {},
   "outputs": [
    {
     "data": {
      "text/plain": [
       "(Congruence([|0, 3|, |1, 4|, |2, 5|, |6|, |7|]),\n",
       " Congruence([|0, 1, 2|, |3, 4, 5|, |6, 7|]))"
      ]
     },
     "execution_count": 85,
     "metadata": {},
     "output_type": "execute_result"
    }
   ],
   "source": [
    "tita, gama"
   ]
  },
  {
   "cell_type": "markdown",
   "metadata": {},
   "source": [
    "Podemos notar que en este caso, $\\gamma$ tiene 3 clases de equivalencia, por lo que ese cociente nos queda la cadena de 3 elementos. "
   ]
  },
  {
   "cell_type": "markdown",
   "metadata": {},
   "source": [
    "### Caso 2\n",
    "\n",
    " - $F_1 := \\{ 0, 1, 3 \\}$\n",
    " - $F_2 := \\{ 2, 3 \\}$"
   ]
  },
  {
   "cell_type": "code",
   "execution_count": 86,
   "metadata": {},
   "outputs": [
    {
     "data": {
      "text/plain": [
       "{(1, 3, 0, 0), (1, 4, 0, 1)}"
      ]
     },
     "execution_count": 86,
     "metadata": {},
     "output_type": "execute_result"
    }
   ],
   "source": [
    "Fs = {}\n",
    "Fs[1] = {0, 1, 3}\n",
    "Fs[2] = {2, 3}\n",
    "tita = reduce(lambda x, y: x & y, [deltas[i] for i in Fs[1]])\n",
    "gama = reduce(lambda x, y: x & y, [deltas[i] for i in Fs[2]])\n",
    "\n",
    "H_prima = [(i,j) for (i,j) in H if any(i in Fs[k] and j in Fs[k] for k in Fs.keys())]\n",
    "\n",
    "A_barra_prima = P.universe\n",
    "for (i, j) in H_prima:\n",
    "    A_barra_prima = [x for x in A_barra_prima if x in dos_proyeccion_extendida(homeo, i, j)]\n",
    "\n",
    "set(A_barra_prima).difference(set(A_barra))"
   ]
  },
  {
   "cell_type": "code",
   "execution_count": 87,
   "metadata": {},
   "outputs": [
    {
     "data": {
      "text/plain": [
       "(Congruence([|0, 3|, |1, 4|, |2, 5|, |6|, |7|]),\n",
       " Congruence([|0|, |1, 2|, |3, 6|, |4, 5, 7|]))"
      ]
     },
     "execution_count": 87,
     "metadata": {},
     "output_type": "execute_result"
    }
   ],
   "source": [
    "tita, gama"
   ]
  },
  {
   "cell_type": "code",
   "execution_count": 100,
   "metadata": {},
   "outputs": [
    {
     "data": {
      "text/plain": [
       "<folpy.utils.latdraw.latdraw.LatDraw at 0x7fd636b7add0>"
      ]
     },
     "execution_count": 100,
     "metadata": {},
     "output_type": "execute_result"
    }
   ],
   "source": [
    "from folpy.semantics.lattices import LatticeQuotient\n",
    "\n",
    "LatticeQuotient(A_inicial, gama).draw()"
   ]
  },
  {
   "cell_type": "markdown",
   "metadata": {},
   "source": [
    "En este caso, $\\gamma $ tiene 4 clases, y el cociente de $A/\\gamma $ es el rombo, a diferencia del caso anterior. "
   ]
  },
  {
   "cell_type": "code",
   "execution_count": null,
   "metadata": {},
   "outputs": [],
   "source": []
  }
 ],
 "metadata": {
  "kernelspec": {
   "display_name": "Python 3.9.9 ('env': venv)",
   "language": "python",
   "name": "python3"
  },
  "language_info": {
   "codemirror_mode": {
    "name": "ipython",
    "version": 3
   },
   "file_extension": ".py",
   "mimetype": "text/x-python",
   "name": "python",
   "nbconvert_exporter": "python",
   "pygments_lexer": "ipython3",
   "version": "3.10.4"
  },
  "orig_nbformat": 4,
  "vscode": {
   "interpreter": {
    "hash": "e0fa8040b9d9508a7d131a2e58436b55f102753c97353d50224337d521b61c41"
   }
  }
 },
 "nbformat": 4,
 "nbformat_minor": 2
}
